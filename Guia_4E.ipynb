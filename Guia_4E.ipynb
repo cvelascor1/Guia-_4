{
 "cells": [
  {
   "cell_type": "markdown",
   "id": "46a812d5",
   "metadata": {},
   "source": [
    "## NOTA: Porfavor correr el codigo ya que es muy pesado y el git hub no soporta el tamaño."
   ]
  },
  {
   "cell_type": "code",
   "execution_count": null,
   "id": "76d1db69-c048-4592-a4e4-6624daa5fec8",
   "metadata": {},
   "outputs": [],
   "source": [
    "#pip install plotly"
   ]
  },
  {
   "cell_type": "code",
   "execution_count": null,
   "id": "60298357-48dc-4f26-a49e-d9b9988654d7",
   "metadata": {},
   "outputs": [],
   "source": [
    "import pandas as pd\n",
    "import os\n",
    "from plotly.subplots import make_subplots\n",
    "import plotly.graph_objects as go\n",
    "import matplotlib.pyplot as plt\n",
    "import numpy as np\n",
    "import seaborn as sns\n"
   ]
  },
  {
   "cell_type": "code",
   "execution_count": null,
   "id": "83060fb2-b283-4bd4-b7ba-cb623dd55f64",
   "metadata": {},
   "outputs": [],
   "source": [
    "file_name = 'Datos Contugas.xlsx'               \n",
    "df_combined = pd.read_excel(file_name)\n",
    "excel_data = pd.ExcelFile(file_name)\n"
   ]
  },
  {
   "cell_type": "code",
   "execution_count": null,
   "id": "fdc0f80f-35d3-400e-8605-824c31c9b093",
   "metadata": {},
   "outputs": [],
   "source": [
    "df_combined.head()"
   ]
  },
  {
   "cell_type": "code",
   "execution_count": null,
   "id": "eca9da44-eddc-4a9d-bed2-bb04eb41a7d5",
   "metadata": {},
   "outputs": [],
   "source": [
    "# Iterar sobre cada hoja y agregar el número de cliente ya que estan separados\n",
    "for i, sheet_name in enumerate(excel_data.sheet_names, start=1):\n",
    "    df_temp = excel_data.parse(sheet_name)\n",
    "    df_temp['Numero_Cliente'] = f'CLIENTE{i}'\n",
    "    df_combined = pd.concat([df_combined, df_temp], ignore_index=True)"
   ]
  },
  {
   "cell_type": "code",
   "execution_count": null,
   "id": "f4130103-5c12-4452-a602-e3fe3c580318",
   "metadata": {},
   "outputs": [],
   "source": [
    "# Fecha' a datetime\n",
    "df_combined['Fecha'] = pd.to_datetime(df_combined['Fecha'])\n",
    "df_combined"
   ]
  },
  {
   "cell_type": "code",
   "execution_count": null,
   "id": "2f310f44-b626-4ca5-adfc-08067ecef60b",
   "metadata": {},
   "outputs": [],
   "source": [
    "# Completitud\n",
    "completitud_por_cliente = df_combined.groupby('Numero_Cliente').apply(lambda x: x.notnull().mean() * 100)\n",
    "\n",
    "# Gráfico de barras para completitud por cliente\n",
    "import plotly.express as px\n",
    "\n",
    "# Crear gráfico de barras con plotly\n",
    "fig = px.bar(completitud_por_cliente, \n",
    "             title=\"Completitud por Cliente\", \n",
    "             labels={'value': 'Completitud (%)'})\n",
    "\n",
    "# Ajustar tamaño de la figura\n",
    "fig.update_layout(\n",
    "    width=800,  # Ancho de la figura\n",
    "    height=600  # Alto de la figura\n",
    ")\n",
    "\n",
    "# Mostrar el gráfico\n",
    "fig.show()"
   ]
  },
  {
   "cell_type": "code",
   "execution_count": null,
   "id": "10767df0-6368-4b06-8555-255ef84bb8f6",
   "metadata": {},
   "outputs": [],
   "source": [
    "#Consistencia y claridad\n",
    "# Obtener estadísticas descriptivas para todas las columnas numéricas\n",
    "estadisticas_descriptivas = df_combined.describe()\n",
    "\n",
    "# Convertir el DataFrame a formato tabular (texto plano)\n",
    "tabla_texto = estadisticas_descriptivas.to_string()\n",
    "\n",
    "# Imprimir la tabla para copiarla fácilmente\n",
    "print(tabla_texto)"
   ]
  },
  {
   "cell_type": "code",
   "execution_count": null,
   "id": "a4047a9d-2a26-4d26-9a9d-18a6377ae0ad",
   "metadata": {},
   "outputs": [],
   "source": [
    "##Formato\n",
    "# Obtener los tipos de datos (formato) de cada columna\n",
    "tipos_de_datos = df_combined.dtypes\n",
    "\n",
    "# Convertir los tipos de datos a una tabla legible\n",
    "tabla_formatos = tipos_de_datos.to_frame().reset_index()\n",
    "\n",
    "# Renombrar las columnas para mayor claridad\n",
    "tabla_formatos.columns = ['Variable', 'Formato']\n",
    "\n",
    "# Convertir la tabla a un formato de texto tabular (para copiar y pegar)\n",
    "tabla_formatos_texto = tabla_formatos.to_string(index=False)\n",
    "\n",
    "# Imprimir la tabla para copiarla\n",
    "print(tabla_formatos_texto)"
   ]
  },
  {
   "cell_type": "code",
   "execution_count": null,
   "id": "f67e2d7f-d216-40bf-ac6d-ba967f598591",
   "metadata": {},
   "outputs": [],
   "source": [
    "import plotly.express as px\n",
    "\n",
    "# Crear un scatter plot de Temperatura contra Fecha\n",
    "fig = px.scatter(df_combined, \n",
    "                 x='Fecha', \n",
    "                 y='Temperatura', \n",
    "                 title='Temperatura a lo largo del tiempo',\n",
    "                 labels={'Fecha': 'Fecha', 'Temperatura': 'Temperatura (°C)'},\n",
    "                 template='plotly_dark')\n",
    "\n",
    "# Mostrar el gráfico\n",
    "fig.show()"
   ]
  },
  {
   "cell_type": "code",
   "execution_count": null,
   "id": "5b7f9dc1-7fd9-4b5a-9de1-22cb3933a002",
   "metadata": {},
   "outputs": [],
   "source": [
    "import plotly.express as px\n",
    "\n",
    "# Scatter plot para Volumen vs. Fecha (Tiempo)\n",
    "fig_volumen = px.scatter(df_combined, \n",
    "                         x='Fecha', \n",
    "                         y='Volumen', \n",
    "                         title='Volumen a lo largo del tiempo',\n",
    "                         labels={'Fecha': 'Fecha', 'Volumen': 'Volumen (m³)'},\n",
    "                         template='plotly_dark') \n",
    "\n",
    "# Scatter plot para Presión vs. Fecha (Tiempo)\n",
    "fig_presion = px.scatter(df_combined, \n",
    "                         x='Fecha', \n",
    "                         y='Presion', \n",
    "                         title='Presión a lo largo del tiempo',\n",
    "                         labels={'Fecha': 'Fecha', 'Presion': 'Presión (Pa)'},\n",
    "                         template='plotly_dark') \n",
    "\n",
    "# Mostrar ambos gráficos\n",
    "fig_volumen.show()\n",
    "fig_presion.show()"
   ]
  },
  {
   "cell_type": "code",
   "execution_count": null,
   "id": "8532a163-cb86-4dd6-a860-2126d8562c0d",
   "metadata": {},
   "outputs": [],
   "source": [
    "# Crear una figura con tres subplots (uno para cada variable)\n",
    "fig = make_subplots(rows=1, cols=3, subplot_titles=[\"Presion\", \"Temperatura\", \"Volumen\"])\n",
    "\n",
    "# Creamos un DF para saber qué clientes están disponibles\n",
    "cliente_inicial = 'CLIENTE1'  # Solo seleccionar CLIENTE1\n",
    "\n",
    "# Añadir los gráficos de caja para el cliente inicial\n",
    "for i, variable in enumerate(['Presion', 'Temperatura', 'Volumen']):\n",
    "    fig.add_trace(\n",
    "        go.Box(y=df_combined[df_combined['Numero_Cliente'] == cliente_inicial][variable], \n",
    "               name=variable,\n",
    "               boxpoints='all'),\n",
    "        row=1, col=i+1\n",
    "    )\n",
    "\n",
    "# Actualizar el título del gráfico\n",
    "fig.update_layout(\n",
    "    title=f\"Distribución de Presion, Temperatura y Volumen para {cliente_inicial}\",\n",
    "    yaxis_title=\"Valor\",\n",
    ")\n",
    "\n",
    "# Mostrar el gráfico sin menú desplegable\n",
    "fig.show()"
   ]
  },
  {
   "cell_type": "code",
   "execution_count": null,
   "id": "5ceff3e4-9cf2-4823-ae0a-a499e9ab38bd",
   "metadata": {
    "scrolled": true
   },
   "outputs": [],
   "source": [
    "# Convertir la columna 'Fecha' a formato datetime\n",
    "df_combined['Fecha'] = pd.to_datetime(df_combined['Fecha'])\n",
    "\n",
    "# Obtener los primeros 5 clientes\n",
    "clientes = df_combined['Numero_Cliente'].unique()[:2]\n",
    "\n",
    "# Filtrar los datos para graficar por cada cliente\n",
    "for cliente in clientes:\n",
    "    df_cliente = df_combined[df_combined['Numero_Cliente'] == cliente]\n",
    "    \n",
    "    # Crear una figura para el cliente actual\n",
    "    plt.figure(figsize=(12, 8))\n",
    "    \n",
    "    # Graficar cada variable\n",
    "    plt.plot(df_cliente['Fecha'], df_cliente['Presion'], label='Presion')\n",
    "    plt.plot(df_cliente['Fecha'], df_cliente['Temperatura'], label='Temperatura')\n",
    "    plt.plot(df_cliente['Fecha'], df_cliente['Volumen'], label='Volumen')\n",
    "    plt.xlabel('Fecha')\n",
    "    plt.ylabel('Valor')\n",
    "    plt.title(f'Presion, Temperatura y Volumen para {cliente}')\n",
    "    plt.legend()\n",
    "    plt.show()"
   ]
  },
  {
   "cell_type": "code",
   "execution_count": null,
   "id": "c5fb2f3c-07c6-423b-bca2-146d3ba5d2ea",
   "metadata": {},
   "outputs": [],
   "source": [
    " #Valores nulos por columna\n",
    "missing_data = df_combined.isnull().sum()\n",
    "print(\"Valores nulos por columna:\")\n",
    "print(missing_data)\n",
    "\n",
    "# Valores nulos por fila\n",
    "rows_with_missing_data = df_combined.isnull().any(axis=1)\n",
    "print(\"\\nFilas con valores nulos:\")\n",
    "print(df_combined[rows_with_missing_data])\n",
    "\n",
    "# Total de valores nulos en todo el DataFrame\n",
    "total_missing_data = df_combined.isnull().sum().sum()\n",
    "print(f'\\nTotal de valores nulo base Contugas: {total_missing_data}')\n",
    "\n"
   ]
  },
  {
   "cell_type": "code",
   "execution_count": null,
   "id": "90e684eb-3d97-4848-a6db-fbc729315b90",
   "metadata": {},
   "outputs": [],
   "source": [
    "# Verificar si las columnas tienen el tipo de dato esperado\n",
    "expected_types = {'Presion': float, 'Temperatura': float, 'Volumen': float}\n",
    "\n",
    "for column, expected_type in expected_types.items():\n",
    "    is_correct_type = df_combined[column].apply(lambda x: isinstance(x, expected_type)).all()\n",
    "    if not is_correct_type:\n",
    "        print(f\"\\nLa columna '{column}' tiene valores con tipo incorrecto.\")"
   ]
  },
  {
   "cell_type": "code",
   "execution_count": null,
   "id": "ba05fad0-0220-4eb9-a8dc-3e767cca4816",
   "metadata": {},
   "outputs": [],
   "source": [
    "# Función para detectar outliers usando el IQR\n",
    "def detectar_outliers_iqr(df):\n",
    "    columnas_numericas = df.select_dtypes(include=['float64', 'int64']).columns\n",
    "    outliers = {}\n",
    "    for columna in columnas_numericas:\n",
    "        Q1 = df[columna].quantile(0.25)\n",
    "        Q3 = df[columna].quantile(0.75)\n",
    "        IQR = Q3 - Q1\n",
    "        limite_inferior = Q1 - 1.5 * IQR\n",
    "        limite_superior = Q3 + 1.5 * IQR\n",
    "        outliers[columna] = df[(df[columna] < limite_inferior) | (df[columna] > limite_superior)]\n",
    "    return outliers\n",
    "\n",
    "# Función para detectar outliers usando la desviación estándar\n",
    "def detectar_outliers_std(df):\n",
    "    columnas_numericas = df.select_dtypes(include=['float64', 'int64']).columns\n",
    "    outliers = {}\n",
    "    for columna in columnas_numericas:\n",
    "        media = df[columna].mean()\n",
    "        desviacion_estandar = df[columna].std()\n",
    "        limite_inferior = media - 3 * desviacion_estandar\n",
    "        limite_superior = media + 3 * desviacion_estandar\n",
    "        outliers[columna] = df[(df[columna] < limite_inferior) | (df[columna] > limite_superior)]\n",
    "    return outliers\n",
    "\n",
    "# Detectar outliers usando IQR\n",
    "outliers_iqr = detectar_outliers_iqr(df_combined)\n",
    "\n",
    "# Detectar outliers usando desviación estándar\n",
    "outliers_std = detectar_outliers_std(df_combined)\n",
    "\n",
    "# Mostrar los resultados\n",
    "for columna, outlier_data in outliers_iqr.items():\n",
    "    if not outlier_data.empty:\n",
    "        print(f\"\\nOutliers en la columna '{columna}' (IQR):\")\n",
    "        print(outlier_data)\n",
    "\n",
    "for columna, outlier_data in outliers_std.items():\n",
    "    if not outlier_data.empty:\n",
    "        print(f\"\\nOutliers en la columna '{columna}' (Desviación Estándar):\")\n",
    "        print(outlier_data)\n",
    "\n",
    "# Visualizar los outliers con boxplots\n",
    "plt.figure(figsize=(14, 8))\n",
    "sns.boxplot(data=df_combined.select_dtypes(include=['float64', 'int64']))\n",
    "plt.title(\"Boxplots de todas las columnas numéricas\")\n",
    "plt.show()\n"
   ]
  },
  {
   "cell_type": "code",
   "execution_count": null,
   "id": "85c2c417-9626-487d-901a-cc4b7fe597bf",
   "metadata": {},
   "outputs": [],
   "source": [
    "# Calcular los cuartiles Q1 y Q3 de 'Volumen'\n",
    "Q1 = df_combined['Volumen'].quantile(0.25)\n",
    "Q3 = df_combined['Volumen'].quantile(0.75)\n",
    "\n",
    "# Calcular el IQR (Rango Intercuartílico)\n",
    "IQR = Q3 - Q1\n",
    "\n",
    "# Definir los límites para los outliers\n",
    "limite_inferior = Q1 - 1.5 * IQR\n",
    "limite_superior = Q3 + 1.5 * IQR\n",
    "\n",
    "# Identificar los outliers\n",
    "outliers = df_combined[(df_combined['Volumen'] < limite_inferior) | (df_combined['Volumen'] > limite_superior)]\n",
    "\n",
    "# Imputar aleatoriamente los outliers con valores entre Q1 y Q3\n",
    "for index, row in outliers.iterrows():\n",
    "    nuevo_valor = np.random.uniform(Q1, Q3)  \n",
    "    df_combined.loc[index, 'Volumen'] = nuevo_valor  \n",
    "\n",
    "# Verificación si quedan outliers después de la imputación\n",
    "outliers_imputados = df_combined[(df_combined['Volumen'] < limite_inferior) | (df_combined['Volumen'] > limite_superior)]\n",
    "print(f\"Total de outliers restantes después de la imputación: {len(outliers_imputados)}\")\n",
    "\n",
    "# Boxplot después de imputar los outliers\n",
    "plt.figure(figsize=(10, 6))\n",
    "sns.boxplot(x=df_combined['Volumen'])\n",
    "plt.title(\"Boxplot de 'Volumen' (Después de imputar outliers)\")\n",
    "plt.show()"
   ]
  },
  {
   "cell_type": "code",
   "execution_count": null,
   "id": "e233fabf-9f46-4773-be14-7fbeae103e99",
   "metadata": {},
   "outputs": [],
   "source": []
  }
 ],
 "metadata": {
  "kernelspec": {
   "display_name": "Python 3 (ipykernel)",
   "language": "python",
   "name": "python3"
  },
  "language_info": {
   "codemirror_mode": {
    "name": "ipython",
    "version": 3
   },
   "file_extension": ".py",
   "mimetype": "text/x-python",
   "name": "python",
   "nbconvert_exporter": "python",
   "pygments_lexer": "ipython3",
   "version": "3.11.2"
  }
 },
 "nbformat": 4,
 "nbformat_minor": 5
}
